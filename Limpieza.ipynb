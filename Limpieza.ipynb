{
 "cells": [
  {
   "cell_type": "code",
   "execution_count": 2,
   "metadata": {},
   "outputs": [],
   "source": [
    "#Imports\n",
    "import pandas as pd"
   ]
  },
  {
   "cell_type": "code",
   "execution_count": 11,
   "metadata": {},
   "outputs": [
    {
     "ename": "ParserError",
     "evalue": "Error tokenizing data. C error: Expected 1 fields in line 12, saw 2\n",
     "output_type": "error",
     "traceback": [
      "\u001b[1;31m---------------------------------------------------------------------------\u001b[0m",
      "\u001b[1;31mParserError\u001b[0m                               Traceback (most recent call last)",
      "Cell \u001b[1;32mIn[11], line 1\u001b[0m\n\u001b[1;32m----> 1\u001b[0m alta_verapaz_diversificado \u001b[39m=\u001b[39m pd\u001b[39m.\u001b[39;49mread_csv(\u001b[39m'\u001b[39;49m\u001b[39mDiversificado/alta_verapaz_diversificado.csv\u001b[39;49m\u001b[39m'\u001b[39;49m,encoding\u001b[39m=\u001b[39;49m\u001b[39m'\u001b[39;49m\u001b[39mANSI\u001b[39;49m\u001b[39m'\u001b[39;49m)\n\u001b[0;32m      2\u001b[0m baja_verapaz_diversificado \u001b[39m=\u001b[39m pd\u001b[39m.\u001b[39mread_csv(\u001b[39m'\u001b[39m\u001b[39mDiversificado/baja_verapaz_diversificado.csv\u001b[39m\u001b[39m'\u001b[39m,encoding\u001b[39m=\u001b[39m\u001b[39m'\u001b[39m\u001b[39mANSI\u001b[39m\u001b[39m'\u001b[39m)\n\u001b[0;32m      3\u001b[0m capital_diversificado \u001b[39m=\u001b[39m pd\u001b[39m.\u001b[39mread_csv(\u001b[39m'\u001b[39m\u001b[39mDiversificado/capital_diversificado.csv\u001b[39m\u001b[39m'\u001b[39m,encoding\u001b[39m=\u001b[39m\u001b[39m'\u001b[39m\u001b[39mANSI\u001b[39m\u001b[39m'\u001b[39m)\n",
      "File \u001b[1;32m~\\AppData\\Local\\Packages\\PythonSoftwareFoundation.Python.3.11_qbz5n2kfra8p0\\LocalCache\\local-packages\\Python311\\site-packages\\pandas\\io\\parsers\\readers.py:912\u001b[0m, in \u001b[0;36mread_csv\u001b[1;34m(filepath_or_buffer, sep, delimiter, header, names, index_col, usecols, dtype, engine, converters, true_values, false_values, skipinitialspace, skiprows, skipfooter, nrows, na_values, keep_default_na, na_filter, verbose, skip_blank_lines, parse_dates, infer_datetime_format, keep_date_col, date_parser, date_format, dayfirst, cache_dates, iterator, chunksize, compression, thousands, decimal, lineterminator, quotechar, quoting, doublequote, escapechar, comment, encoding, encoding_errors, dialect, on_bad_lines, delim_whitespace, low_memory, memory_map, float_precision, storage_options, dtype_backend)\u001b[0m\n\u001b[0;32m    899\u001b[0m kwds_defaults \u001b[39m=\u001b[39m _refine_defaults_read(\n\u001b[0;32m    900\u001b[0m     dialect,\n\u001b[0;32m    901\u001b[0m     delimiter,\n\u001b[1;32m   (...)\u001b[0m\n\u001b[0;32m    908\u001b[0m     dtype_backend\u001b[39m=\u001b[39mdtype_backend,\n\u001b[0;32m    909\u001b[0m )\n\u001b[0;32m    910\u001b[0m kwds\u001b[39m.\u001b[39mupdate(kwds_defaults)\n\u001b[1;32m--> 912\u001b[0m \u001b[39mreturn\u001b[39;00m _read(filepath_or_buffer, kwds)\n",
      "File \u001b[1;32m~\\AppData\\Local\\Packages\\PythonSoftwareFoundation.Python.3.11_qbz5n2kfra8p0\\LocalCache\\local-packages\\Python311\\site-packages\\pandas\\io\\parsers\\readers.py:583\u001b[0m, in \u001b[0;36m_read\u001b[1;34m(filepath_or_buffer, kwds)\u001b[0m\n\u001b[0;32m    580\u001b[0m     \u001b[39mreturn\u001b[39;00m parser\n\u001b[0;32m    582\u001b[0m \u001b[39mwith\u001b[39;00m parser:\n\u001b[1;32m--> 583\u001b[0m     \u001b[39mreturn\u001b[39;00m parser\u001b[39m.\u001b[39;49mread(nrows)\n",
      "File \u001b[1;32m~\\AppData\\Local\\Packages\\PythonSoftwareFoundation.Python.3.11_qbz5n2kfra8p0\\LocalCache\\local-packages\\Python311\\site-packages\\pandas\\io\\parsers\\readers.py:1704\u001b[0m, in \u001b[0;36mTextFileReader.read\u001b[1;34m(self, nrows)\u001b[0m\n\u001b[0;32m   1697\u001b[0m nrows \u001b[39m=\u001b[39m validate_integer(\u001b[39m\"\u001b[39m\u001b[39mnrows\u001b[39m\u001b[39m\"\u001b[39m, nrows)\n\u001b[0;32m   1698\u001b[0m \u001b[39mtry\u001b[39;00m:\n\u001b[0;32m   1699\u001b[0m     \u001b[39m# error: \"ParserBase\" has no attribute \"read\"\u001b[39;00m\n\u001b[0;32m   1700\u001b[0m     (\n\u001b[0;32m   1701\u001b[0m         index,\n\u001b[0;32m   1702\u001b[0m         columns,\n\u001b[0;32m   1703\u001b[0m         col_dict,\n\u001b[1;32m-> 1704\u001b[0m     ) \u001b[39m=\u001b[39m \u001b[39mself\u001b[39;49m\u001b[39m.\u001b[39;49m_engine\u001b[39m.\u001b[39;49mread(  \u001b[39m# type: ignore[attr-defined]\u001b[39;49;00m\n\u001b[0;32m   1705\u001b[0m         nrows\n\u001b[0;32m   1706\u001b[0m     )\n\u001b[0;32m   1707\u001b[0m \u001b[39mexcept\u001b[39;00m \u001b[39mException\u001b[39;00m:\n\u001b[0;32m   1708\u001b[0m     \u001b[39mself\u001b[39m\u001b[39m.\u001b[39mclose()\n",
      "File \u001b[1;32m~\\AppData\\Local\\Packages\\PythonSoftwareFoundation.Python.3.11_qbz5n2kfra8p0\\LocalCache\\local-packages\\Python311\\site-packages\\pandas\\io\\parsers\\c_parser_wrapper.py:234\u001b[0m, in \u001b[0;36mCParserWrapper.read\u001b[1;34m(self, nrows)\u001b[0m\n\u001b[0;32m    232\u001b[0m \u001b[39mtry\u001b[39;00m:\n\u001b[0;32m    233\u001b[0m     \u001b[39mif\u001b[39;00m \u001b[39mself\u001b[39m\u001b[39m.\u001b[39mlow_memory:\n\u001b[1;32m--> 234\u001b[0m         chunks \u001b[39m=\u001b[39m \u001b[39mself\u001b[39;49m\u001b[39m.\u001b[39;49m_reader\u001b[39m.\u001b[39;49mread_low_memory(nrows)\n\u001b[0;32m    235\u001b[0m         \u001b[39m# destructive to chunks\u001b[39;00m\n\u001b[0;32m    236\u001b[0m         data \u001b[39m=\u001b[39m _concatenate_chunks(chunks)\n",
      "File \u001b[1;32m~\\AppData\\Local\\Packages\\PythonSoftwareFoundation.Python.3.11_qbz5n2kfra8p0\\LocalCache\\local-packages\\Python311\\site-packages\\pandas\\_libs\\parsers.pyx:814\u001b[0m, in \u001b[0;36mpandas._libs.parsers.TextReader.read_low_memory\u001b[1;34m()\u001b[0m\n",
      "File \u001b[1;32m~\\AppData\\Local\\Packages\\PythonSoftwareFoundation.Python.3.11_qbz5n2kfra8p0\\LocalCache\\local-packages\\Python311\\site-packages\\pandas\\_libs\\parsers.pyx:875\u001b[0m, in \u001b[0;36mpandas._libs.parsers.TextReader._read_rows\u001b[1;34m()\u001b[0m\n",
      "File \u001b[1;32m~\\AppData\\Local\\Packages\\PythonSoftwareFoundation.Python.3.11_qbz5n2kfra8p0\\LocalCache\\local-packages\\Python311\\site-packages\\pandas\\_libs\\parsers.pyx:850\u001b[0m, in \u001b[0;36mpandas._libs.parsers.TextReader._tokenize_rows\u001b[1;34m()\u001b[0m\n",
      "File \u001b[1;32m~\\AppData\\Local\\Packages\\PythonSoftwareFoundation.Python.3.11_qbz5n2kfra8p0\\LocalCache\\local-packages\\Python311\\site-packages\\pandas\\_libs\\parsers.pyx:861\u001b[0m, in \u001b[0;36mpandas._libs.parsers.TextReader._check_tokenize_status\u001b[1;34m()\u001b[0m\n",
      "File \u001b[1;32m~\\AppData\\Local\\Packages\\PythonSoftwareFoundation.Python.3.11_qbz5n2kfra8p0\\LocalCache\\local-packages\\Python311\\site-packages\\pandas\\_libs\\parsers.pyx:2029\u001b[0m, in \u001b[0;36mpandas._libs.parsers.raise_parser_error\u001b[1;34m()\u001b[0m\n",
      "\u001b[1;31mParserError\u001b[0m: Error tokenizing data. C error: Expected 1 fields in line 12, saw 2\n"
     ]
    }
   ],
   "source": [
    "alta_verapaz_diversificado = pd.read_csv('Diversificado/alta_verapaz_diversificado.csv',encoding='ANSI',separator=';')\n",
    "baja_verapaz_diversificado = pd.read_csv('Diversificado/baja_verapaz_diversificado.csv',encoding='ANSI',separator=';')\n",
    "capital_diversificado = pd.read_csv('Diversificado/capital_diversificado.csv',encoding='ANSI',separator=';')\n",
    "chimaltenango_diversificado = pd.read_csv('Diversificado/chimaltenango_diversificado.csv',encoding='ANSI',separator=';')\n",
    "chiquimula_diversificado = pd.read_csv('Diversificado/chiquimula_diversificado.csv',encoding='ANSI',separator=';')\n",
    "escuintla_diversificado = pd.read_csv('Diversificado/escuintla_diversificado.csv',encoding='ANSI',separator=';')\n",
    "guatemala_diversificado = pd.read_csv('Diversificado/guatemala_diversificado.csv',encoding='ANSI',separator=';')\n",
    "huehuetenango_diversificado = pd.read_csv('Diversificado/huehuetenango_diversificado.csv',encoding='ANSI',separator=';')\n",
    "izabal_diversificado = pd.read_csv('Diversificado/izabal_diversificado.csv',encoding='ANSI',separator=';')\n",
    "jalapa_diversificado = pd.read_csv('Diversificado/jalapa_diversificado.csv',encoding='ANSI',separator=';')\n",
    "jutiapa_diversificado = pd.read_csv('Diversificado/jutiapa_diversificado.csv',encoding='ANSI',separator=';')\n",
    "peten_diversificado = pd.read_csv('Diversificado/peten_diversificado.csv',encoding='ANSI',separator=';')\n",
    "progreso_diversificado = pd.read_csv('Diversificado/progreso_diversificado.csv',encoding='ANSI',separator=';')\n",
    "quetzaltenango_diversificado = pd.read_csv('Diversificado/quetzaltenango_diversificado.csv',encoding='ANSI',separator=';')\n",
    "quiche_diversificado = pd.read_csv('Diversificado/quiche_diversificado.csv',encoding='ANSI',separator=';')\n",
    "retalhuleu_diversificado = pd.read_csv('Diversificado/retalhuleu_diversificado.csv',encoding='ANSI',separator=';')\n",
    "sacatepequez_diversificado = pd.read_csv('Diversificado/sacatepequez_diversificado.csv',encoding='ANSI',separator=';')\n",
    "san_marcos_diversificado = pd.read_csv('Diversificado/san_marcos_diversificado.csv',encoding='ANSI',separator=';')\n",
    "santa_rosa_diversificado = pd.read_csv('Diversificado/santa_rosa_diversificado.csv',encoding='ANSI',separator=';')\n",
    "solola_diversificado = pd.read_csv('Diversificado/solola_diversificado.csv',encoding='ANSI',separator=';')\n",
    "suchitepequez_diversificado = pd.read_csv('Diversificado/suchitepequez_diversificado.csv',encoding='ANSI',separator=';')\n",
    "totonicapan_diversificado = pd.read_csv('Diversificado/totonicapan_diversificado.csv',encoding='ANSI',separator=';')\n",
    "zacapa_diversificado = pd.read_csv('Diversificado/zacapa_diversificado.csv',encoding='ANSI',separator=';')"
   ]
  },
  {
   "cell_type": "code",
   "execution_count": null,
   "metadata": {},
   "outputs": [],
   "source": [
    "dfs = [\n",
    "    alta_verapaz_diversificado,\n",
    "    baja_verapaz_diversificado,\n",
    "    capital_diversificado,\n",
    "    chimaltenango_diversificado,\n",
    "    chiquimula_diversificado,\n",
    "    progreso_diversificado,\n",
    "    escuintla_diversificado,\n",
    "    guatemala_diversificado,\n",
    "    huehuetenango_diversificado,\n",
    "    izabal_diversificado,\n",
    "    jalapa_diversificado,\n",
    "    jutiapa_diversificado,\n",
    "    peten_diversificado,\n",
    "    quetzaltenango_diversificado,\n",
    "    quiche_diversificado,\n",
    "    retalhuleu_diversificado,\n",
    "    sacatepequez_diversificado,\n",
    "    san_marcos_diversificado,\n",
    "    santa_rosa_diversificado,\n",
    "    solola_diversificado,\n",
    "    suchitepequez_diversificado,\n",
    "    totonicapan_diversificado,\n",
    "    zacapa_diversificado,\n",
    "]\n",
    "concatenated_df = pd.concat([alta_verapaz_diversificado, baja_verapaz_diversificado,], axis=1)"
   ]
  }
 ],
 "metadata": {
  "kernelspec": {
   "display_name": "Python 3",
   "language": "python",
   "name": "python3"
  },
  "language_info": {
   "name": "python",
   "version": "3.11.4"
  },
  "orig_nbformat": 4
 },
 "nbformat": 4,
 "nbformat_minor": 2
}
